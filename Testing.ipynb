{
  "nbformat": 4,
  "nbformat_minor": 0,
  "metadata": {
    "colab": {
      "name": "Testing.ipynb",
      "provenance": [],
      "authorship_tag": "ABX9TyOQ2uZ47DmxoSrOKKZMaebM",
      "include_colab_link": true
    },
    "kernelspec": {
      "name": "python3",
      "display_name": "Python 3"
    },
    "language_info": {
      "name": "python"
    }
  },
  "cells": [
    {
      "cell_type": "markdown",
      "metadata": {
        "id": "view-in-github",
        "colab_type": "text"
      },
      "source": [
        "<a href=\"https://colab.research.google.com/github/PuroshotamSingh/Speech-Emotion-Recognition/blob/main/Testing.ipynb\" target=\"_parent\"><img src=\"https://colab.research.google.com/assets/colab-badge.svg\" alt=\"Open In Colab\"/></a>"
      ]
    },
    {
      "cell_type": "code",
      "metadata": {
        "id": "UozJuY_rdlY4"
      },
      "source": [
        "# Importing libraries\n",
        "\n",
        "import keras\n",
        "import librosa\n",
        "import numpy as np"
      ],
      "execution_count": 41,
      "outputs": []
    },
    {
      "cell_type": "code",
      "metadata": {
        "colab": {
          "base_uri": "https://localhost:8080/"
        },
        "id": "2trMy7H3e0cf",
        "outputId": "dc6ea211-f16d-432d-bf6c-e47b221c686d"
      },
      "source": [
        "# Defining class for predicting emotions from sound files.\n",
        "\n",
        "class LivePredictions:\n",
        "    \"\"\"\n",
        "    Main class of the application.\n",
        "    \"\"\"\n",
        "\n",
        "    def __init__(self, file):\n",
        "        \"\"\"\n",
        "        Init method is used to initialize the main parameters.\n",
        "        \"\"\"\n",
        "        self.file = file\n",
        "        self.path = '/content/model.h5'\n",
        "        self.loaded_model = keras.models.load_model(self.path)\n",
        "\n",
        "    def make_predictions(self):\n",
        "        \"\"\"\n",
        "        Method to process the files and create your features.\n",
        "        \"\"\"\n",
        "        data, sampling_rate = librosa.load(self.file)\n",
        "        mfccs = np.mean(librosa.feature.mfcc(y=data, sr=sampling_rate, n_mfcc=40).T, axis=0)\n",
        "        x = np.expand_dims(mfccs, axis=1)\n",
        "        x = np.expand_dims(x, axis=0)\n",
        "        # predictions = self.loaded_model.predict_classes(x)\n",
        "        predictions = np.argmax(self.loaded_model.predict(x), axis=1)\n",
        "        print( \"Prediction is\", self.convert_class_to_emotion(predictions))\n",
        "\n",
        "    @staticmethod\n",
        "    def convert_class_to_emotion(pred):\n",
        "        \"\"\"\n",
        "        Method to convert the predictions (int) into human readable strings.\n",
        "        \"\"\"\n",
        "        \n",
        "        label_conversion = {'0': 'neutral',\n",
        "                            '1': 'calm',\n",
        "                            '2': 'happy',\n",
        "                            '3': 'sad',\n",
        "                            '4': 'angry',\n",
        "                            '5': 'fear',\n",
        "                            '6': 'disgust',\n",
        "                            '7': 'surprised'}\n",
        "\n",
        "        for key, value in label_conversion.items():\n",
        "            if int(key) == pred:\n",
        "                label = value\n",
        "        return label\n",
        "\n",
        "\n",
        "if __name__ == '__main__':\n",
        "    live_prediction = LivePredictions(file='/content/OAF_back_ps.wav')\n",
        "    # live_prediction.loaded_model.summary()\n",
        "    live_prediction.make_predictions()\n",
        "    # live_prediction = LivePredictions(file='10-16-07-29-82-30-63.wav')\n",
        "    # live_prediction.make_predictions()"
      ],
      "execution_count": 60,
      "outputs": [
        {
          "output_type": "stream",
          "name": "stdout",
          "text": [
            "Prediction is surprised\n"
          ]
        }
      ]
    },
    {
      "cell_type": "code",
      "metadata": {
        "id": "zUSy0bwXfGYT"
      },
      "source": [
        ""
      ],
      "execution_count": null,
      "outputs": []
    }
  ]
}